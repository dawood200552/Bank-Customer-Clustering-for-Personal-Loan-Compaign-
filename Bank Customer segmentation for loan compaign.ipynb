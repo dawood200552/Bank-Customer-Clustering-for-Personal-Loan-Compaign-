{
 "cells": [
  {
   "cell_type": "markdown",
   "metadata": {},
   "source": [
    "# Bank Customer Segmentation for Loan Campaign\n",
    "##### Banks often have ****marketing campaigns**** for their individual products. \n",
    "##### Therabank is an established bank that offers personal loans as a product.\n",
    "##### The task at hand is to create customer segments to maximize the effectiveness of their personal loan campaign. \n",
    "##### Goal is to:\n",
    "- create ****customer segments**** for the marketing campaign\n",
    "- identify which of these segments have the highest propensity to respond to the \n",
    "campaign\n"
   ]
  },
  {
   "cell_type": "code",
   "execution_count": 1,
   "metadata": {},
   "outputs": [],
   "source": [
    "#Importing the Libraries \n",
    "\n",
    "import pandas as pd\n",
    "import numpy as np\n",
    "from  sklearn.cluster import KMeans\n",
    "from matplotlib import pyplot as plt \n",
    "from sklearn.preprocessing import StandardScaler"
   ]
  },
  {
   "cell_type": "code",
   "execution_count": 2,
   "metadata": {},
   "outputs": [
    {
     "data": {
      "text/html": [
       "<div>\n",
       "<style scoped>\n",
       "    .dataframe tbody tr th:only-of-type {\n",
       "        vertical-align: middle;\n",
       "    }\n",
       "\n",
       "    .dataframe tbody tr th {\n",
       "        vertical-align: top;\n",
       "    }\n",
       "\n",
       "    .dataframe thead th {\n",
       "        text-align: right;\n",
       "    }\n",
       "</style>\n",
       "<table border=\"1\" class=\"dataframe\">\n",
       "  <thead>\n",
       "    <tr style=\"text-align: right;\">\n",
       "      <th></th>\n",
       "      <th>ID</th>\n",
       "      <th>Age</th>\n",
       "      <th>Experience</th>\n",
       "      <th>Income</th>\n",
       "      <th>ZIP Code</th>\n",
       "      <th>Family</th>\n",
       "      <th>CCAvg</th>\n",
       "      <th>Education</th>\n",
       "      <th>Mortgage</th>\n",
       "      <th>Personal Loan</th>\n",
       "      <th>Securities Account</th>\n",
       "      <th>CD Account</th>\n",
       "      <th>Online</th>\n",
       "      <th>CreditCard</th>\n",
       "    </tr>\n",
       "  </thead>\n",
       "  <tbody>\n",
       "    <tr>\n",
       "      <th>0</th>\n",
       "      <td>1</td>\n",
       "      <td>25</td>\n",
       "      <td>1</td>\n",
       "      <td>49</td>\n",
       "      <td>91107</td>\n",
       "      <td>4</td>\n",
       "      <td>1.6</td>\n",
       "      <td>1</td>\n",
       "      <td>0</td>\n",
       "      <td>0</td>\n",
       "      <td>1</td>\n",
       "      <td>0</td>\n",
       "      <td>0</td>\n",
       "      <td>0</td>\n",
       "    </tr>\n",
       "    <tr>\n",
       "      <th>1</th>\n",
       "      <td>2</td>\n",
       "      <td>45</td>\n",
       "      <td>19</td>\n",
       "      <td>34</td>\n",
       "      <td>90089</td>\n",
       "      <td>3</td>\n",
       "      <td>1.5</td>\n",
       "      <td>1</td>\n",
       "      <td>0</td>\n",
       "      <td>0</td>\n",
       "      <td>1</td>\n",
       "      <td>0</td>\n",
       "      <td>0</td>\n",
       "      <td>0</td>\n",
       "    </tr>\n",
       "  </tbody>\n",
       "</table>\n",
       "</div>"
      ],
      "text/plain": [
       "   ID  Age  Experience  Income  ZIP Code  Family  CCAvg  Education  Mortgage  \\\n",
       "0   1   25           1      49     91107       4    1.6          1         0   \n",
       "1   2   45          19      34     90089       3    1.5          1         0   \n",
       "\n",
       "   Personal Loan  Securities Account  CD Account  Online  CreditCard  \n",
       "0              0                   1           0       0           0  \n",
       "1              0                   1           0       0           0  "
      ]
     },
     "execution_count": 2,
     "metadata": {},
     "output_type": "execute_result"
    }
   ],
   "source": [
    "# import the data \n",
    "file = \"C:\\\\Users\\\\Mohannad.dawood\\\\Downloads\\\\Bank_Personal_Loan_Modelling-1.csv\"\n",
    "df= pd.read_csv(file)\n",
    "df.head(2)"
   ]
  },
  {
   "cell_type": "markdown",
   "metadata": {},
   "source": [
    "### exploring the data "
   ]
  },
  {
   "cell_type": "code",
   "execution_count": 3,
   "metadata": {},
   "outputs": [
    {
     "name": "stdout",
     "output_type": "stream",
     "text": [
      "<class 'pandas.core.frame.DataFrame'>\n",
      "RangeIndex: 5000 entries, 0 to 4999\n",
      "Data columns (total 14 columns):\n",
      " #   Column              Non-Null Count  Dtype  \n",
      "---  ------              --------------  -----  \n",
      " 0   ID                  5000 non-null   int64  \n",
      " 1   Age                 5000 non-null   int64  \n",
      " 2   Experience          5000 non-null   int64  \n",
      " 3   Income              5000 non-null   int64  \n",
      " 4   ZIP Code            5000 non-null   int64  \n",
      " 5   Family              5000 non-null   int64  \n",
      " 6   CCAvg               5000 non-null   float64\n",
      " 7   Education           5000 non-null   int64  \n",
      " 8   Mortgage            5000 non-null   int64  \n",
      " 9   Personal Loan       5000 non-null   int64  \n",
      " 10  Securities Account  5000 non-null   int64  \n",
      " 11  CD Account          5000 non-null   int64  \n",
      " 12  Online              5000 non-null   int64  \n",
      " 13  CreditCard          5000 non-null   int64  \n",
      "dtypes: float64(1), int64(13)\n",
      "memory usage: 547.0 KB\n"
     ]
    }
   ],
   "source": [
    "df.info()"
   ]
  },
  {
   "cell_type": "markdown",
   "metadata": {},
   "source": [
    "## as we could discover :\n",
    "- There is no missing values \n",
    "- There are 5000 records ( clients)with 13 features for each one of them \n",
    "- All the data is integer values , except one float values which is CCAVG ( average of credit card spending )"
   ]
  },
  {
   "cell_type": "markdown",
   "metadata": {},
   "source": [
    "- **Experience**: The work experience of the customer in years.\n",
    "- **Income**: The estimated annual income of the customer (thousands of \n",
    "US dollars).\n",
    "- **CCAvg**: The average spending on credit cards per month (thousands of \n",
    "US dollars).\n",
    "- **Mortgage**: The value of the customer's house mortgage (if any).\n",
    "- **Age**: The age (in years) of the customer."
   ]
  },
  {
   "cell_type": "code",
   "execution_count": 4,
   "metadata": {},
   "outputs": [
    {
     "data": {
      "text/html": [
       "<div>\n",
       "<style scoped>\n",
       "    .dataframe tbody tr th:only-of-type {\n",
       "        vertical-align: middle;\n",
       "    }\n",
       "\n",
       "    .dataframe tbody tr th {\n",
       "        vertical-align: top;\n",
       "    }\n",
       "\n",
       "    .dataframe thead th {\n",
       "        text-align: right;\n",
       "    }\n",
       "</style>\n",
       "<table border=\"1\" class=\"dataframe\">\n",
       "  <thead>\n",
       "    <tr style=\"text-align: right;\">\n",
       "      <th></th>\n",
       "      <th>ID</th>\n",
       "      <th>Age</th>\n",
       "      <th>Experience</th>\n",
       "      <th>Income</th>\n",
       "      <th>ZIP Code</th>\n",
       "      <th>Family</th>\n",
       "      <th>CCAvg</th>\n",
       "      <th>Education</th>\n",
       "      <th>Mortgage</th>\n",
       "      <th>Personal Loan</th>\n",
       "      <th>Securities Account</th>\n",
       "      <th>CD Account</th>\n",
       "      <th>Online</th>\n",
       "      <th>CreditCard</th>\n",
       "    </tr>\n",
       "  </thead>\n",
       "  <tbody>\n",
       "    <tr>\n",
       "      <th>count</th>\n",
       "      <td>5000.000000</td>\n",
       "      <td>5000.000000</td>\n",
       "      <td>5000.000000</td>\n",
       "      <td>5000.000000</td>\n",
       "      <td>5000.000000</td>\n",
       "      <td>5000.000000</td>\n",
       "      <td>5000.000000</td>\n",
       "      <td>5000.000000</td>\n",
       "      <td>5000.000000</td>\n",
       "      <td>5000.000000</td>\n",
       "      <td>5000.000000</td>\n",
       "      <td>5000.00000</td>\n",
       "      <td>5000.000000</td>\n",
       "      <td>5000.000000</td>\n",
       "    </tr>\n",
       "    <tr>\n",
       "      <th>mean</th>\n",
       "      <td>2500.500000</td>\n",
       "      <td>45.338400</td>\n",
       "      <td>20.104600</td>\n",
       "      <td>73.774200</td>\n",
       "      <td>93152.503000</td>\n",
       "      <td>2.396400</td>\n",
       "      <td>1.937938</td>\n",
       "      <td>1.881000</td>\n",
       "      <td>56.498800</td>\n",
       "      <td>0.096000</td>\n",
       "      <td>0.104400</td>\n",
       "      <td>0.06040</td>\n",
       "      <td>0.596800</td>\n",
       "      <td>0.294000</td>\n",
       "    </tr>\n",
       "    <tr>\n",
       "      <th>std</th>\n",
       "      <td>1443.520003</td>\n",
       "      <td>11.463166</td>\n",
       "      <td>11.467954</td>\n",
       "      <td>46.033729</td>\n",
       "      <td>2121.852197</td>\n",
       "      <td>1.147663</td>\n",
       "      <td>1.747659</td>\n",
       "      <td>0.839869</td>\n",
       "      <td>101.713802</td>\n",
       "      <td>0.294621</td>\n",
       "      <td>0.305809</td>\n",
       "      <td>0.23825</td>\n",
       "      <td>0.490589</td>\n",
       "      <td>0.455637</td>\n",
       "    </tr>\n",
       "    <tr>\n",
       "      <th>min</th>\n",
       "      <td>1.000000</td>\n",
       "      <td>23.000000</td>\n",
       "      <td>-3.000000</td>\n",
       "      <td>8.000000</td>\n",
       "      <td>9307.000000</td>\n",
       "      <td>1.000000</td>\n",
       "      <td>0.000000</td>\n",
       "      <td>1.000000</td>\n",
       "      <td>0.000000</td>\n",
       "      <td>0.000000</td>\n",
       "      <td>0.000000</td>\n",
       "      <td>0.00000</td>\n",
       "      <td>0.000000</td>\n",
       "      <td>0.000000</td>\n",
       "    </tr>\n",
       "    <tr>\n",
       "      <th>25%</th>\n",
       "      <td>1250.750000</td>\n",
       "      <td>35.000000</td>\n",
       "      <td>10.000000</td>\n",
       "      <td>39.000000</td>\n",
       "      <td>91911.000000</td>\n",
       "      <td>1.000000</td>\n",
       "      <td>0.700000</td>\n",
       "      <td>1.000000</td>\n",
       "      <td>0.000000</td>\n",
       "      <td>0.000000</td>\n",
       "      <td>0.000000</td>\n",
       "      <td>0.00000</td>\n",
       "      <td>0.000000</td>\n",
       "      <td>0.000000</td>\n",
       "    </tr>\n",
       "    <tr>\n",
       "      <th>50%</th>\n",
       "      <td>2500.500000</td>\n",
       "      <td>45.000000</td>\n",
       "      <td>20.000000</td>\n",
       "      <td>64.000000</td>\n",
       "      <td>93437.000000</td>\n",
       "      <td>2.000000</td>\n",
       "      <td>1.500000</td>\n",
       "      <td>2.000000</td>\n",
       "      <td>0.000000</td>\n",
       "      <td>0.000000</td>\n",
       "      <td>0.000000</td>\n",
       "      <td>0.00000</td>\n",
       "      <td>1.000000</td>\n",
       "      <td>0.000000</td>\n",
       "    </tr>\n",
       "    <tr>\n",
       "      <th>75%</th>\n",
       "      <td>3750.250000</td>\n",
       "      <td>55.000000</td>\n",
       "      <td>30.000000</td>\n",
       "      <td>98.000000</td>\n",
       "      <td>94608.000000</td>\n",
       "      <td>3.000000</td>\n",
       "      <td>2.500000</td>\n",
       "      <td>3.000000</td>\n",
       "      <td>101.000000</td>\n",
       "      <td>0.000000</td>\n",
       "      <td>0.000000</td>\n",
       "      <td>0.00000</td>\n",
       "      <td>1.000000</td>\n",
       "      <td>1.000000</td>\n",
       "    </tr>\n",
       "    <tr>\n",
       "      <th>max</th>\n",
       "      <td>5000.000000</td>\n",
       "      <td>67.000000</td>\n",
       "      <td>43.000000</td>\n",
       "      <td>224.000000</td>\n",
       "      <td>96651.000000</td>\n",
       "      <td>4.000000</td>\n",
       "      <td>10.000000</td>\n",
       "      <td>3.000000</td>\n",
       "      <td>635.000000</td>\n",
       "      <td>1.000000</td>\n",
       "      <td>1.000000</td>\n",
       "      <td>1.00000</td>\n",
       "      <td>1.000000</td>\n",
       "      <td>1.000000</td>\n",
       "    </tr>\n",
       "  </tbody>\n",
       "</table>\n",
       "</div>"
      ],
      "text/plain": [
       "                ID          Age   Experience       Income      ZIP Code  \\\n",
       "count  5000.000000  5000.000000  5000.000000  5000.000000   5000.000000   \n",
       "mean   2500.500000    45.338400    20.104600    73.774200  93152.503000   \n",
       "std    1443.520003    11.463166    11.467954    46.033729   2121.852197   \n",
       "min       1.000000    23.000000    -3.000000     8.000000   9307.000000   \n",
       "25%    1250.750000    35.000000    10.000000    39.000000  91911.000000   \n",
       "50%    2500.500000    45.000000    20.000000    64.000000  93437.000000   \n",
       "75%    3750.250000    55.000000    30.000000    98.000000  94608.000000   \n",
       "max    5000.000000    67.000000    43.000000   224.000000  96651.000000   \n",
       "\n",
       "            Family        CCAvg    Education     Mortgage  Personal Loan  \\\n",
       "count  5000.000000  5000.000000  5000.000000  5000.000000    5000.000000   \n",
       "mean      2.396400     1.937938     1.881000    56.498800       0.096000   \n",
       "std       1.147663     1.747659     0.839869   101.713802       0.294621   \n",
       "min       1.000000     0.000000     1.000000     0.000000       0.000000   \n",
       "25%       1.000000     0.700000     1.000000     0.000000       0.000000   \n",
       "50%       2.000000     1.500000     2.000000     0.000000       0.000000   \n",
       "75%       3.000000     2.500000     3.000000   101.000000       0.000000   \n",
       "max       4.000000    10.000000     3.000000   635.000000       1.000000   \n",
       "\n",
       "       Securities Account  CD Account       Online   CreditCard  \n",
       "count         5000.000000  5000.00000  5000.000000  5000.000000  \n",
       "mean             0.104400     0.06040     0.596800     0.294000  \n",
       "std              0.305809     0.23825     0.490589     0.455637  \n",
       "min              0.000000     0.00000     0.000000     0.000000  \n",
       "25%              0.000000     0.00000     0.000000     0.000000  \n",
       "50%              0.000000     0.00000     1.000000     0.000000  \n",
       "75%              0.000000     0.00000     1.000000     1.000000  \n",
       "max              1.000000     1.00000     1.000000     1.000000  "
      ]
     },
     "execution_count": 4,
     "metadata": {},
     "output_type": "execute_result"
    }
   ],
   "source": [
    "df.describe()"
   ]
  },
  {
   "cell_type": "markdown",
   "metadata": {},
   "source": [
    "## Let us look at each feature and discuss the statistical values :\n",
    "- Age between 23 and 67 \n",
    "- Experience : we found the minimum value -3 which could not be meaningful , so I recommend to do more cleansing of this feature\n",
    "- income between 8k and 224k , and 75% of the customers income under 98k , so I expect to have outlier which need to be removed to avoid any misleading values of our study \n",
    "- CCAV is like income , 75% of spending under 2500 while the maximum value 10,000 which is outliers propability \n"
   ]
  },
  {
   "cell_type": "markdown",
   "metadata": {},
   "source": [
    "## Experiense exploration "
   ]
  },
  {
   "cell_type": "code",
   "execution_count": 5,
   "metadata": {},
   "outputs": [
    {
     "data": {
      "image/png": "[encoded data removed]",
      "text/plain": [
       "<Figure size 500x500 with 1 Axes>"
      ]
     },
     "metadata": {},
     "output_type": "display_data"
    }
   ],
   "source": [
    "fig = plt.figure(figsize=(5,5))\n",
    "plt.boxplot(df['Experience'] )\n",
    "plt.show()"
   ]
  },
  {
   "cell_type": "code",
   "execution_count": 6,
   "metadata": {},
   "outputs": [],
   "source": [
    "df=df[df['Experience']>= 0]\n"
   ]
  },
  {
   "cell_type": "markdown",
   "metadata": {},
   "source": [
    "## Income Explration "
   ]
  },
  {
   "cell_type": "code",
   "execution_count": 7,
   "metadata": {},
   "outputs": [
    {
     "data": {
      "image/png": "[encoded data removed]",
      "text/plain": [
       "<Figure size 500x500 with 1 Axes>"
      ]
     },
     "metadata": {},
     "output_type": "display_data"
    }
   ],
   "source": [
    "fig = plt.figure(figsize=(5,5))\n",
    "plt.boxplot(df['Income'] )\n",
    "plt.show()"
   ]
  },
  {
   "cell_type": "markdown",
   "metadata": {},
   "source": [
    "there is outlier above 169k , so it is better to remove this record to keep our study without outliers "
   ]
  },
  {
   "cell_type": "code",
   "execution_count": 8,
   "metadata": {},
   "outputs": [
    {
     "data": {
      "image/png": "[encoded data removed]",
      "text/plain": [
       "<Figure size 640x480 with 1 Axes>"
      ]
     },
     "metadata": {},
     "output_type": "display_data"
    }
   ],
   "source": [
    "df=df[df['Income'] < 169]\n",
    "plt.boxplot(df['Income'] )\n",
    "plt.show()\n"
   ]
  },
  {
   "cell_type": "markdown",
   "metadata": {},
   "source": [
    "# CCAVR Exploration "
   ]
  },
  {
   "cell_type": "code",
   "execution_count": 9,
   "metadata": {},
   "outputs": [
    {
     "data": {
      "image/png": "[encoded data removed]",
      "text/plain": [
       "<Figure size 500x500 with 1 Axes>"
      ]
     },
     "metadata": {},
     "output_type": "display_data"
    }
   ],
   "source": [
    "fig = plt.figure(figsize=(5,5))\n",
    "plt.boxplot(df['CCAvg'] )\n",
    "plt.show()"
   ]
  },
  {
   "cell_type": "markdown",
   "metadata": {},
   "source": [
    "there is outlier above 4600 , so it is better to remove this record to keep our study without outliers "
   ]
  },
  {
   "cell_type": "code",
   "execution_count": 10,
   "metadata": {},
   "outputs": [
    {
     "data": {
      "image/png": "[encoded data removed]",
      "text/plain": [
       "<Figure size 640x480 with 1 Axes>"
      ]
     },
     "metadata": {},
     "output_type": "display_data"
    }
   ],
   "source": [
    "df=df[df['CCAvg'] < 4.6]\n",
    "plt.boxplot(df['CCAvg'] )\n",
    "plt.show()\n"
   ]
  },
  {
   "cell_type": "code",
   "execution_count": 11,
   "metadata": {},
   "outputs": [
    {
     "data": {
      "text/plain": [
       "(4379, 14)"
      ]
     },
     "execution_count": 11,
     "metadata": {},
     "output_type": "execute_result"
    }
   ],
   "source": [
    "# Data Frame after removing the outliers and misleading values has 4379 customers \n",
    "df.shape"
   ]
  },
  {
   "cell_type": "markdown",
   "metadata": {},
   "source": [
    "Let us find the correlations between features of our customers to find out the best parameters of our clustering "
   ]
  },
  {
   "cell_type": "code",
   "execution_count": 12,
   "metadata": {},
   "outputs": [
    {
     "data": {
      "text/html": [
       "<div>\n",
       "<style scoped>\n",
       "    .dataframe tbody tr th:only-of-type {\n",
       "        vertical-align: middle;\n",
       "    }\n",
       "\n",
       "    .dataframe tbody tr th {\n",
       "        vertical-align: top;\n",
       "    }\n",
       "\n",
       "    .dataframe thead th {\n",
       "        text-align: right;\n",
       "    }\n",
       "</style>\n",
       "<table border=\"1\" class=\"dataframe\">\n",
       "  <thead>\n",
       "    <tr style=\"text-align: right;\">\n",
       "      <th></th>\n",
       "      <th>ID</th>\n",
       "      <th>Age</th>\n",
       "      <th>Experience</th>\n",
       "      <th>Income</th>\n",
       "      <th>ZIP Code</th>\n",
       "      <th>Family</th>\n",
       "      <th>CCAvg</th>\n",
       "      <th>Education</th>\n",
       "      <th>Mortgage</th>\n",
       "      <th>Personal Loan</th>\n",
       "      <th>Securities Account</th>\n",
       "      <th>CD Account</th>\n",
       "      <th>Online</th>\n",
       "      <th>CreditCard</th>\n",
       "    </tr>\n",
       "  </thead>\n",
       "  <tbody>\n",
       "    <tr>\n",
       "      <th>ID</th>\n",
       "      <td>1.000000</td>\n",
       "      <td>-0.005160</td>\n",
       "      <td>-0.004585</td>\n",
       "      <td>0.001379</td>\n",
       "      <td>0.009990</td>\n",
       "      <td>-0.022210</td>\n",
       "      <td>-0.002365</td>\n",
       "      <td>0.027228</td>\n",
       "      <td>-0.000327</td>\n",
       "      <td>-0.008229</td>\n",
       "      <td>-0.021979</td>\n",
       "      <td>0.002717</td>\n",
       "      <td>-0.011065</td>\n",
       "      <td>0.019014</td>\n",
       "    </tr>\n",
       "    <tr>\n",
       "      <th>Age</th>\n",
       "      <td>-0.005160</td>\n",
       "      <td>1.000000</td>\n",
       "      <td>0.994075</td>\n",
       "      <td>-0.036022</td>\n",
       "      <td>-0.030280</td>\n",
       "      <td>-0.053288</td>\n",
       "      <td>-0.031611</td>\n",
       "      <td>0.042733</td>\n",
       "      <td>-0.017640</td>\n",
       "      <td>-0.003743</td>\n",
       "      <td>-0.002037</td>\n",
       "      <td>-0.001510</td>\n",
       "      <td>0.014161</td>\n",
       "      <td>0.001716</td>\n",
       "    </tr>\n",
       "    <tr>\n",
       "      <th>Experience</th>\n",
       "      <td>-0.004585</td>\n",
       "      <td>0.994075</td>\n",
       "      <td>1.000000</td>\n",
       "      <td>-0.028239</td>\n",
       "      <td>-0.029019</td>\n",
       "      <td>-0.058767</td>\n",
       "      <td>-0.035467</td>\n",
       "      <td>0.014769</td>\n",
       "      <td>-0.015561</td>\n",
       "      <td>-0.001388</td>\n",
       "      <td>-0.002894</td>\n",
       "      <td>0.001077</td>\n",
       "      <td>0.013640</td>\n",
       "      <td>0.002672</td>\n",
       "    </tr>\n",
       "    <tr>\n",
       "      <th>Income</th>\n",
       "      <td>0.001379</td>\n",
       "      <td>-0.036022</td>\n",
       "      <td>-0.028239</td>\n",
       "      <td>1.000000</td>\n",
       "      <td>-0.019684</td>\n",
       "      <td>-0.125233</td>\n",
       "      <td>0.474442</td>\n",
       "      <td>-0.167840</td>\n",
       "      <td>0.161658</td>\n",
       "      <td>0.397936</td>\n",
       "      <td>0.001152</td>\n",
       "      <td>0.085473</td>\n",
       "      <td>0.002727</td>\n",
       "      <td>-0.005964</td>\n",
       "    </tr>\n",
       "    <tr>\n",
       "      <th>ZIP Code</th>\n",
       "      <td>0.009990</td>\n",
       "      <td>-0.030280</td>\n",
       "      <td>-0.029019</td>\n",
       "      <td>-0.019684</td>\n",
       "      <td>1.000000</td>\n",
       "      <td>0.004854</td>\n",
       "      <td>-0.001828</td>\n",
       "      <td>-0.021165</td>\n",
       "      <td>0.012701</td>\n",
       "      <td>-0.007255</td>\n",
       "      <td>-0.005624</td>\n",
       "      <td>0.013030</td>\n",
       "      <td>0.021860</td>\n",
       "      <td>0.002993</td>\n",
       "    </tr>\n",
       "    <tr>\n",
       "      <th>Family</th>\n",
       "      <td>-0.022210</td>\n",
       "      <td>-0.053288</td>\n",
       "      <td>-0.058767</td>\n",
       "      <td>-0.125233</td>\n",
       "      <td>0.004854</td>\n",
       "      <td>1.000000</td>\n",
       "      <td>-0.041568</td>\n",
       "      <td>0.022748</td>\n",
       "      <td>-0.022651</td>\n",
       "      <td>0.029169</td>\n",
       "      <td>0.021422</td>\n",
       "      <td>-0.000728</td>\n",
       "      <td>0.010330</td>\n",
       "      <td>0.004709</td>\n",
       "    </tr>\n",
       "    <tr>\n",
       "      <th>CCAvg</th>\n",
       "      <td>-0.002365</td>\n",
       "      <td>-0.031611</td>\n",
       "      <td>-0.035467</td>\n",
       "      <td>0.474442</td>\n",
       "      <td>-0.001828</td>\n",
       "      <td>-0.041568</td>\n",
       "      <td>1.000000</td>\n",
       "      <td>-0.050012</td>\n",
       "      <td>0.061124</td>\n",
       "      <td>0.265161</td>\n",
       "      <td>0.024694</td>\n",
       "      <td>0.065235</td>\n",
       "      <td>-0.016574</td>\n",
       "      <td>-0.004001</td>\n",
       "    </tr>\n",
       "    <tr>\n",
       "      <th>Education</th>\n",
       "      <td>0.027228</td>\n",
       "      <td>0.042733</td>\n",
       "      <td>0.014769</td>\n",
       "      <td>-0.167840</td>\n",
       "      <td>-0.021165</td>\n",
       "      <td>0.022748</td>\n",
       "      <td>-0.050012</td>\n",
       "      <td>1.000000</td>\n",
       "      <td>-0.043606</td>\n",
       "      <td>0.071962</td>\n",
       "      <td>-0.016933</td>\n",
       "      <td>-0.017595</td>\n",
       "      <td>-0.018904</td>\n",
       "      <td>-0.015833</td>\n",
       "    </tr>\n",
       "    <tr>\n",
       "      <th>Mortgage</th>\n",
       "      <td>-0.000327</td>\n",
       "      <td>-0.017640</td>\n",
       "      <td>-0.015561</td>\n",
       "      <td>0.161658</td>\n",
       "      <td>0.012701</td>\n",
       "      <td>-0.022651</td>\n",
       "      <td>0.061124</td>\n",
       "      <td>-0.043606</td>\n",
       "      <td>1.000000</td>\n",
       "      <td>0.071677</td>\n",
       "      <td>-0.004192</td>\n",
       "      <td>0.054006</td>\n",
       "      <td>-0.013110</td>\n",
       "      <td>-0.013909</td>\n",
       "    </tr>\n",
       "    <tr>\n",
       "      <th>Personal Loan</th>\n",
       "      <td>-0.008229</td>\n",
       "      <td>-0.003743</td>\n",
       "      <td>-0.001388</td>\n",
       "      <td>0.397936</td>\n",
       "      <td>-0.007255</td>\n",
       "      <td>0.029169</td>\n",
       "      <td>0.265161</td>\n",
       "      <td>0.071962</td>\n",
       "      <td>0.071677</td>\n",
       "      <td>1.000000</td>\n",
       "      <td>0.004413</td>\n",
       "      <td>0.208093</td>\n",
       "      <td>-0.010353</td>\n",
       "      <td>-0.013267</td>\n",
       "    </tr>\n",
       "    <tr>\n",
       "      <th>Securities Account</th>\n",
       "      <td>-0.021979</td>\n",
       "      <td>-0.002037</td>\n",
       "      <td>-0.002894</td>\n",
       "      <td>0.001152</td>\n",
       "      <td>-0.005624</td>\n",
       "      <td>0.021422</td>\n",
       "      <td>0.024694</td>\n",
       "      <td>-0.016933</td>\n",
       "      <td>-0.004192</td>\n",
       "      <td>0.004413</td>\n",
       "      <td>1.000000</td>\n",
       "      <td>0.329724</td>\n",
       "      <td>0.012697</td>\n",
       "      <td>-0.012497</td>\n",
       "    </tr>\n",
       "    <tr>\n",
       "      <th>CD Account</th>\n",
       "      <td>0.002717</td>\n",
       "      <td>-0.001510</td>\n",
       "      <td>0.001077</td>\n",
       "      <td>0.085473</td>\n",
       "      <td>0.013030</td>\n",
       "      <td>-0.000728</td>\n",
       "      <td>0.065235</td>\n",
       "      <td>-0.017595</td>\n",
       "      <td>0.054006</td>\n",
       "      <td>0.208093</td>\n",
       "      <td>0.329724</td>\n",
       "      <td>1.000000</td>\n",
       "      <td>0.157786</td>\n",
       "      <td>0.257789</td>\n",
       "    </tr>\n",
       "    <tr>\n",
       "      <th>Online</th>\n",
       "      <td>-0.011065</td>\n",
       "      <td>0.014161</td>\n",
       "      <td>0.013640</td>\n",
       "      <td>0.002727</td>\n",
       "      <td>0.021860</td>\n",
       "      <td>0.010330</td>\n",
       "      <td>-0.016574</td>\n",
       "      <td>-0.018904</td>\n",
       "      <td>-0.013110</td>\n",
       "      <td>-0.010353</td>\n",
       "      <td>0.012697</td>\n",
       "      <td>0.157786</td>\n",
       "      <td>1.000000</td>\n",
       "      <td>-0.000829</td>\n",
       "    </tr>\n",
       "    <tr>\n",
       "      <th>CreditCard</th>\n",
       "      <td>0.019014</td>\n",
       "      <td>0.001716</td>\n",
       "      <td>0.002672</td>\n",
       "      <td>-0.005964</td>\n",
       "      <td>0.002993</td>\n",
       "      <td>0.004709</td>\n",
       "      <td>-0.004001</td>\n",
       "      <td>-0.015833</td>\n",
       "      <td>-0.013909</td>\n",
       "      <td>-0.013267</td>\n",
       "      <td>-0.012497</td>\n",
       "      <td>0.257789</td>\n",
       "      <td>-0.000829</td>\n",
       "      <td>1.000000</td>\n",
       "    </tr>\n",
       "  </tbody>\n",
       "</table>\n",
       "</div>"
      ],
      "text/plain": [
       "                          ID       Age  Experience    Income  ZIP Code  \\\n",
       "ID                  1.000000 -0.005160   -0.004585  0.001379  0.009990   \n",
       "Age                -0.005160  1.000000    0.994075 -0.036022 -0.030280   \n",
       "Experience         -0.004585  0.994075    1.000000 -0.028239 -0.029019   \n",
       "Income              0.001379 -0.036022   -0.028239  1.000000 -0.019684   \n",
       "ZIP Code            0.009990 -0.030280   -0.029019 -0.019684  1.000000   \n",
       "Family             -0.022210 -0.053288   -0.058767 -0.125233  0.004854   \n",
       "CCAvg              -0.002365 -0.031611   -0.035467  0.474442 -0.001828   \n",
       "Education           0.027228  0.042733    0.014769 -0.167840 -0.021165   \n",
       "Mortgage           -0.000327 -0.017640   -0.015561  0.161658  0.012701   \n",
       "Personal Loan      -0.008229 -0.003743   -0.001388  0.397936 -0.007255   \n",
       "Securities Account -0.021979 -0.002037   -0.002894  0.001152 -0.005624   \n",
       "CD Account          0.002717 -0.001510    0.001077  0.085473  0.013030   \n",
       "Online             -0.011065  0.014161    0.013640  0.002727  0.021860   \n",
       "CreditCard          0.019014  0.001716    0.002672 -0.005964  0.002993   \n",
       "\n",
       "                      Family     CCAvg  Education  Mortgage  Personal Loan  \\\n",
       "ID                 -0.022210 -0.002365   0.027228 -0.000327      -0.008229   \n",
       "Age                -0.053288 -0.031611   0.042733 -0.017640      -0.003743   \n",
       "Experience         -0.058767 -0.035467   0.014769 -0.015561      -0.001388   \n",
       "Income             -0.125233  0.474442  -0.167840  0.161658       0.397936   \n",
       "ZIP Code            0.004854 -0.001828  -0.021165  0.012701      -0.007255   \n",
       "Family              1.000000 -0.041568   0.022748 -0.022651       0.029169   \n",
       "CCAvg              -0.041568  1.000000  -0.050012  0.061124       0.265161   \n",
       "Education           0.022748 -0.050012   1.000000 -0.043606       0.071962   \n",
       "Mortgage           -0.022651  0.061124  -0.043606  1.000000       0.071677   \n",
       "Personal Loan       0.029169  0.265161   0.071962  0.071677       1.000000   \n",
       "Securities Account  0.021422  0.024694  -0.016933 -0.004192       0.004413   \n",
       "CD Account         -0.000728  0.065235  -0.017595  0.054006       0.208093   \n",
       "Online              0.010330 -0.016574  -0.018904 -0.013110      -0.010353   \n",
       "CreditCard          0.004709 -0.004001  -0.015833 -0.013909      -0.013267   \n",
       "\n",
       "                    Securities Account  CD Account    Online  CreditCard  \n",
       "ID                           -0.021979    0.002717 -0.011065    0.019014  \n",
       "Age                          -0.002037   -0.001510  0.014161    0.001716  \n",
       "Experience                   -0.002894    0.001077  0.013640    0.002672  \n",
       "Income                        0.001152    0.085473  0.002727   -0.005964  \n",
       "ZIP Code                     -0.005624    0.013030  0.021860    0.002993  \n",
       "Family                        0.021422   -0.000728  0.010330    0.004709  \n",
       "CCAvg                         0.024694    0.065235 -0.016574   -0.004001  \n",
       "Education                    -0.016933   -0.017595 -0.018904   -0.015833  \n",
       "Mortgage                     -0.004192    0.054006 -0.013110   -0.013909  \n",
       "Personal Loan                 0.004413    0.208093 -0.010353   -0.013267  \n",
       "Securities Account            1.000000    0.329724  0.012697   -0.012497  \n",
       "CD Account                    0.329724    1.000000  0.157786    0.257789  \n",
       "Online                        0.012697    0.157786  1.000000   -0.000829  \n",
       "CreditCard                   -0.012497    0.257789 -0.000829    1.000000  "
      ]
     },
     "execution_count": 12,
     "metadata": {},
     "output_type": "execute_result"
    }
   ],
   "source": [
    "df.corr()"
   ]
  },
  {
   "cell_type": "markdown",
   "metadata": {},
   "source": [
    "- Age and Experience have high correlation 0.99\n",
    "- Income and CCAvr have good correlation 0.47\n"
   ]
  },
  {
   "cell_type": "markdown",
   "metadata": {},
   "source": [
    "Let us define the scale the values of our Data Frame module StandardScaler  "
   ]
  },
  {
   "cell_type": "code",
   "execution_count": 13,
   "metadata": {},
   "outputs": [
    {
     "data": {
      "text/html": [
       "<div>\n",
       "<style scoped>\n",
       "    .dataframe tbody tr th:only-of-type {\n",
       "        vertical-align: middle;\n",
       "    }\n",
       "\n",
       "    .dataframe tbody tr th {\n",
       "        vertical-align: top;\n",
       "    }\n",
       "\n",
       "    .dataframe thead th {\n",
       "        text-align: right;\n",
       "    }\n",
       "</style>\n",
       "<table border=\"1\" class=\"dataframe\">\n",
       "  <thead>\n",
       "    <tr style=\"text-align: right;\">\n",
       "      <th></th>\n",
       "      <th>ID</th>\n",
       "      <th>Age</th>\n",
       "      <th>Experience</th>\n",
       "      <th>Income</th>\n",
       "      <th>ZIP Code</th>\n",
       "      <th>Family</th>\n",
       "      <th>CCAvg</th>\n",
       "      <th>Education</th>\n",
       "      <th>Mortgage</th>\n",
       "      <th>Personal Loan</th>\n",
       "      <th>Securities Account</th>\n",
       "      <th>CD Account</th>\n",
       "      <th>Online</th>\n",
       "      <th>CreditCard</th>\n",
       "    </tr>\n",
       "  </thead>\n",
       "  <tbody>\n",
       "    <tr>\n",
       "      <th>0</th>\n",
       "      <td>1</td>\n",
       "      <td>-1.817712</td>\n",
       "      <td>-1.708619</td>\n",
       "      <td>-0.393360</td>\n",
       "      <td>-0.942509</td>\n",
       "      <td>1.352067</td>\n",
       "      <td>0.104377</td>\n",
       "      <td>-1.099244</td>\n",
       "      <td>-0.572856</td>\n",
       "      <td>-0.233821</td>\n",
       "      <td>2.929515</td>\n",
       "      <td>-0.220479</td>\n",
       "      <td>-1.210642</td>\n",
       "      <td>0</td>\n",
       "    </tr>\n",
       "    <tr>\n",
       "      <th>1</th>\n",
       "      <td>2</td>\n",
       "      <td>-0.064287</td>\n",
       "      <td>-0.130314</td>\n",
       "      <td>-0.816384</td>\n",
       "      <td>-1.411322</td>\n",
       "      <td>0.486847</td>\n",
       "      <td>0.010884</td>\n",
       "      <td>-1.099244</td>\n",
       "      <td>-0.572856</td>\n",
       "      <td>-0.233821</td>\n",
       "      <td>2.929515</td>\n",
       "      <td>-0.220479</td>\n",
       "      <td>-1.210642</td>\n",
       "      <td>0</td>\n",
       "    </tr>\n",
       "    <tr>\n",
       "      <th>2</th>\n",
       "      <td>3</td>\n",
       "      <td>-0.590315</td>\n",
       "      <td>-0.481049</td>\n",
       "      <td>-1.465020</td>\n",
       "      <td>0.721364</td>\n",
       "      <td>-1.243593</td>\n",
       "      <td>-0.456579</td>\n",
       "      <td>-1.099244</td>\n",
       "      <td>-0.572856</td>\n",
       "      <td>-0.233821</td>\n",
       "      <td>-0.341353</td>\n",
       "      <td>-0.220479</td>\n",
       "      <td>-1.210642</td>\n",
       "      <td>0</td>\n",
       "    </tr>\n",
       "    <tr>\n",
       "      <th>3</th>\n",
       "      <td>4</td>\n",
       "      <td>-0.941000</td>\n",
       "      <td>-1.007150</td>\n",
       "      <td>1.044920</td>\n",
       "      <td>0.441365</td>\n",
       "      <td>-1.243593</td>\n",
       "      <td>1.132797</td>\n",
       "      <td>0.096976</td>\n",
       "      <td>-0.572856</td>\n",
       "      <td>-0.233821</td>\n",
       "      <td>-0.341353</td>\n",
       "      <td>-0.220479</td>\n",
       "      <td>-1.210642</td>\n",
       "      <td>0</td>\n",
       "    </tr>\n",
       "  </tbody>\n",
       "</table>\n",
       "</div>"
      ],
      "text/plain": [
       "   ID       Age  Experience    Income  ZIP Code    Family     CCAvg  \\\n",
       "0   1 -1.817712   -1.708619 -0.393360 -0.942509  1.352067  0.104377   \n",
       "1   2 -0.064287   -0.130314 -0.816384 -1.411322  0.486847  0.010884   \n",
       "2   3 -0.590315   -0.481049 -1.465020  0.721364 -1.243593 -0.456579   \n",
       "3   4 -0.941000   -1.007150  1.044920  0.441365 -1.243593  1.132797   \n",
       "\n",
       "   Education  Mortgage  Personal Loan  Securities Account  CD Account  \\\n",
       "0  -1.099244 -0.572856      -0.233821            2.929515   -0.220479   \n",
       "1  -1.099244 -0.572856      -0.233821            2.929515   -0.220479   \n",
       "2  -1.099244 -0.572856      -0.233821           -0.341353   -0.220479   \n",
       "3   0.096976 -0.572856      -0.233821           -0.341353   -0.220479   \n",
       "\n",
       "     Online  CreditCard  \n",
       "0 -1.210642           0  \n",
       "1 -1.210642           0  \n",
       "2 -1.210642           0  \n",
       "3 -1.210642           0  "
      ]
     },
     "execution_count": 13,
     "metadata": {},
     "output_type": "execute_result"
    }
   ],
   "source": [
    "scaler= StandardScaler()\n",
    "df_scale = df.copy()\n",
    "\n",
    "\n",
    "df_scale.iloc[: , 1:13]=scaler.fit_transform(df_scale.iloc[: , 1:13])\n",
    "df_scale.head(4)"
   ]
  },
  {
   "cell_type": "markdown",
   "metadata": {},
   "source": [
    "Let us Clustering the customers according to Kmean for 4 groups according to their parameters "
   ]
  },
  {
   "cell_type": "code",
   "execution_count": 14,
   "metadata": {},
   "outputs": [
    {
     "name": "stderr",
     "output_type": "stream",
     "text": [
      "c:\\Users\\Mohannad.dawood\\AppData\\Local\\anaconda3\\lib\\site-packages\\sklearn\\cluster\\_kmeans.py:870: FutureWarning: The default value of `n_init` will change from 10 to 'auto' in 1.4. Set the value of `n_init` explicitly to suppress the warning\n",
      "  warnings.warn(\n"
     ]
    },
    {
     "data": {
      "text/html": [
       "<div>\n",
       "<style scoped>\n",
       "    .dataframe tbody tr th:only-of-type {\n",
       "        vertical-align: middle;\n",
       "    }\n",
       "\n",
       "    .dataframe tbody tr th {\n",
       "        vertical-align: top;\n",
       "    }\n",
       "\n",
       "    .dataframe thead th {\n",
       "        text-align: right;\n",
       "    }\n",
       "</style>\n",
       "<table border=\"1\" class=\"dataframe\">\n",
       "  <thead>\n",
       "    <tr style=\"text-align: right;\">\n",
       "      <th></th>\n",
       "      <th>ID</th>\n",
       "      <th>Age</th>\n",
       "      <th>Experience</th>\n",
       "      <th>Income</th>\n",
       "      <th>ZIP Code</th>\n",
       "      <th>Family</th>\n",
       "      <th>CCAvg</th>\n",
       "      <th>Education</th>\n",
       "      <th>Mortgage</th>\n",
       "      <th>Personal Loan</th>\n",
       "      <th>Securities Account</th>\n",
       "      <th>CD Account</th>\n",
       "      <th>Online</th>\n",
       "      <th>CreditCard</th>\n",
       "      <th>Group</th>\n",
       "    </tr>\n",
       "  </thead>\n",
       "  <tbody>\n",
       "    <tr>\n",
       "      <th>0</th>\n",
       "      <td>1</td>\n",
       "      <td>-1.817712</td>\n",
       "      <td>-1.708619</td>\n",
       "      <td>-0.393360</td>\n",
       "      <td>-0.942509</td>\n",
       "      <td>1.352067</td>\n",
       "      <td>0.104377</td>\n",
       "      <td>-1.099244</td>\n",
       "      <td>-0.572856</td>\n",
       "      <td>-0.233821</td>\n",
       "      <td>2.929515</td>\n",
       "      <td>-0.220479</td>\n",
       "      <td>-1.210642</td>\n",
       "      <td>0</td>\n",
       "      <td>2</td>\n",
       "    </tr>\n",
       "    <tr>\n",
       "      <th>1</th>\n",
       "      <td>2</td>\n",
       "      <td>-0.064287</td>\n",
       "      <td>-0.130314</td>\n",
       "      <td>-0.816384</td>\n",
       "      <td>-1.411322</td>\n",
       "      <td>0.486847</td>\n",
       "      <td>0.010884</td>\n",
       "      <td>-1.099244</td>\n",
       "      <td>-0.572856</td>\n",
       "      <td>-0.233821</td>\n",
       "      <td>2.929515</td>\n",
       "      <td>-0.220479</td>\n",
       "      <td>-1.210642</td>\n",
       "      <td>0</td>\n",
       "      <td>2</td>\n",
       "    </tr>\n",
       "  </tbody>\n",
       "</table>\n",
       "</div>"
      ],
      "text/plain": [
       "   ID       Age  Experience    Income  ZIP Code    Family     CCAvg  \\\n",
       "0   1 -1.817712   -1.708619 -0.393360 -0.942509  1.352067  0.104377   \n",
       "1   2 -0.064287   -0.130314 -0.816384 -1.411322  0.486847  0.010884   \n",
       "\n",
       "   Education  Mortgage  Personal Loan  Securities Account  CD Account  \\\n",
       "0  -1.099244 -0.572856      -0.233821            2.929515   -0.220479   \n",
       "1  -1.099244 -0.572856      -0.233821            2.929515   -0.220479   \n",
       "\n",
       "     Online  CreditCard  Group  \n",
       "0 -1.210642           0      2  \n",
       "1 -1.210642           0      2  "
      ]
     },
     "execution_count": 14,
     "metadata": {},
     "output_type": "execute_result"
    }
   ],
   "source": [
    "module = KMeans(n_clusters=4 , random_state=1900 )\n",
    "module.fit(df_scale.iloc[:,1:13])\n",
    "df_scale['Group']=module.predict(df_scale.iloc[:,1:13])\n",
    "df_scale.head(2)"
   ]
  },
  {
   "cell_type": "markdown",
   "metadata": {},
   "source": [
    "we can find the four groups and the counts of each one of them "
   ]
  },
  {
   "cell_type": "code",
   "execution_count": 15,
   "metadata": {},
   "outputs": [
    {
     "data": {
      "text/plain": [
       "1    1906\n",
       "3    1814\n",
       "2     432\n",
       "0     227\n",
       "Name: Group, dtype: int64"
      ]
     },
     "execution_count": 15,
     "metadata": {},
     "output_type": "execute_result"
    }
   ],
   "source": [
    "df_scale.Group.value_counts()"
   ]
  },
  {
   "cell_type": "markdown",
   "metadata": {},
   "source": [
    "Lets Understand the Clustering meaning since this is unsupervised Segmentations of the customers \n",
    "We could do this exploration to understand the clustering of our groups by ploting each features with the groups to find where the best fit of this segmentations \n"
   ]
  },
  {
   "cell_type": "code",
   "execution_count": null,
   "metadata": {},
   "outputs": [],
   "source": []
  },
  {
   "cell_type": "code",
   "execution_count": 48,
   "metadata": {},
   "outputs": [
    {
     "data": {
      "image/png": "[encoded data removed]",
      "text/plain": [
       "<Figure size 640x480 with 1 Axes>"
      ]
     },
     "metadata": {},
     "output_type": "display_data"
    },
    {
     "data": {
      "text/plain": [
       "Group\n",
       "0     227\n",
       "1    1906\n",
       "2     432\n",
       "3    1814\n",
       "Name: Age, dtype: int64"
      ]
     },
     "execution_count": 48,
     "metadata": {},
     "output_type": "execute_result"
    }
   ],
   "source": [
    "fig,ax = plt.subplots()\n",
    "ax.scatter(df['Age'],df_scale['Group'])\n",
    "ax.set_xlabel(\"Age\",size=20, color=\"red\")\n",
    "ax.set_ylabel('Group')\n",
    "plt.show()\n",
    "df['Group']=df_scale['Group']\n",
    "df.groupby(['Group'])['Age'].count()"
   ]
  },
  {
   "cell_type": "code",
   "execution_count": 50,
   "metadata": {},
   "outputs": [
    {
     "data": {
      "image/png": "[encoded data removed]",
      "text/plain": [
       "<Figure size 640x480 with 1 Axes>"
      ]
     },
     "metadata": {},
     "output_type": "display_data"
    },
    {
     "data": {
      "text/plain": [
       "Group\n",
       "0     227\n",
       "1    1906\n",
       "2     432\n",
       "3    1814\n",
       "Name: Experience, dtype: int64"
      ]
     },
     "execution_count": 50,
     "metadata": {},
     "output_type": "execute_result"
    }
   ],
   "source": [
    "fig,ax = plt.subplots()\n",
    "ax.scatter(df['Experience'],df_scale['Group'])\n",
    "ax.set_xlabel(\"Experience\",size=20, color=\"red\")\n",
    "ax.set_ylabel('Group')\n",
    "plt.show()\n",
    "df['Group']=df_scale['Group']\n",
    "df.groupby(['Group'])['Experience'].count()"
   ]
  },
  {
   "cell_type": "code",
   "execution_count": 51,
   "metadata": {},
   "outputs": [
    {
     "data": {
      "image/png": "[encoded data removed]",
      "text/plain": [
       "<Figure size 640x480 with 1 Axes>"
      ]
     },
     "metadata": {},
     "output_type": "display_data"
    },
    {
     "data": {
      "text/plain": [
       "Group\n",
       "0     227\n",
       "1    1906\n",
       "2     432\n",
       "3    1814\n",
       "Name: Income, dtype: int64"
      ]
     },
     "execution_count": 51,
     "metadata": {},
     "output_type": "execute_result"
    }
   ],
   "source": [
    "fig,ax = plt.subplots()\n",
    "ax.scatter(df['Income'],df_scale['Group'])\n",
    "ax.set_xlabel(\"Income\",size=20, color=\"red\")\n",
    "ax.set_ylabel('Group')\n",
    "plt.show()\n",
    "df['Group']=df_scale['Group']\n",
    "df.groupby(['Group'])['Income'].count()"
   ]
  },
  {
   "cell_type": "code",
   "execution_count": 63,
   "metadata": {},
   "outputs": [
    {
     "data": {
      "image/png": "[encoded data removed]",
      "text/plain": [
       "<Figure size 640x480 with 1 Axes>"
      ]
     },
     "metadata": {},
     "output_type": "display_data"
    },
    {
     "data": {
      "text/plain": [
       "Group\n",
       "0     227\n",
       "1    1906\n",
       "2     432\n",
       "3    1814\n",
       "Name: Securities Account, dtype: int64"
      ]
     },
     "execution_count": 63,
     "metadata": {},
     "output_type": "execute_result"
    }
   ],
   "source": [
    "fig,ax = plt.subplots()\n",
    "ax.scatter(df['Securities Account'],df_scale['Group'])\n",
    "ax.set_xlabel(\"Securities Account\",size=20, color=\"red\")\n",
    "ax.set_ylabel('Group')\n",
    "plt.show()\n",
    "df['Group']=df_scale['Group']\n",
    "df.groupby(['Group'])['Securities Account'].count()"
   ]
  },
  {
   "cell_type": "code",
   "execution_count": 56,
   "metadata": {},
   "outputs": [
    {
     "data": {
      "image/png": "[encoded data removed]",
      "text/plain": [
       "<Figure size 640x480 with 1 Axes>"
      ]
     },
     "metadata": {},
     "output_type": "display_data"
    },
    {
     "data": {
      "text/plain": [
       "Group\n",
       "0     227\n",
       "1    1906\n",
       "2     432\n",
       "3    1814\n",
       "Name: Personal Loan, dtype: int64"
      ]
     },
     "execution_count": 56,
     "metadata": {},
     "output_type": "execute_result"
    }
   ],
   "source": [
    "fig,ax = plt.subplots()\n",
    "ax.scatter(df['Personal Loan'],df_scale['Group'])\n",
    "ax.set_xlabel(\"Personal Loan\",size=20, color=\"red\")\n",
    "ax.set_ylabel('Group')\n",
    "plt.show()\n",
    "df['Group']=df_scale['Group']\n",
    "df.groupby(['Group'])['Personal Loan'].count()"
   ]
  },
  {
   "cell_type": "markdown",
   "metadata": {},
   "source": [
    "## Groups Explanation:\n",
    "# Group 1 \n",
    "- counts 227\n",
    "- Age under 47 years old \n",
    "- experience less than 20 years \n",
    "-do not have secuirities account \n",
    "- do not have personal loans \n",
    "# Group 2 \n",
    "- have the largest count 1906\n",
    "- have secuirities account \n",
    "- do not have personal loans \n",
    "# Group 3 \n",
    "- counts 432\n",
    "- Age more than 42 years old \n",
    "- experience more than 18 years \n",
    "-do not have secuirities account \n",
    "- do not have personal loans \n",
    "# Group 4\n",
    "- seconde large group 1814 counts\n",
    "- do not have secuirities account \n",
    "- have personal loans \n",
    "- income more than 60k yearly \n"
   ]
  },
  {
   "cell_type": "markdown",
   "metadata": {},
   "source": [
    "## Conclusions \n",
    "- Income has major role in taking the decision of personal loan , since Group 4 which includes the customer which has personal loan with income more than 60k, or maybe the previouse compaigns targeted this group for more safety standards \n",
    "- the first strategy needs to target the customer who has not personal loan and has income more than 60k , and this segmentation need to be the first persona to be included in awareness compaign \n",
    "-  to engage group 2 which their members have securities account and counts more than 40% of the customers, they need joint compaign to connect their secuirities account with a personel loan , and this would be different persona to be targeted \n",
    "- to engage Group 4 which their members have already personel loan, there must be an offer of gaining the ability of second personel loan, with lowering the rate of first loan  if they follow scheduled collection methode.\n"
   ]
  },
  {
   "cell_type": "markdown",
   "metadata": {},
   "source": []
  }
 ],
 "metadata": {
  "kernelspec": {
   "display_name": "Python 3",
   "language": "python",
   "name": "python3"
  },
  "language_info": {
   "codemirror_mode": {
    "name": "ipython",
    "version": 3
   },
   "file_extension": ".py",
   "mimetype": "text/x-python",
   "name": "python",
   "nbconvert_exporter": "python",
   "pygments_lexer": "ipython3",
   "version": "3.10.9"
  }
 },
 "nbformat": 4,
 "nbformat_minor": 2
}
